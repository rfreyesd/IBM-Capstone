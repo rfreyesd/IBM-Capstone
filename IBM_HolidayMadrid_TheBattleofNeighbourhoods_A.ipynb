{
 "cells": [
  {
   "cell_type": "markdown",
   "metadata": {},
   "source": [
    "# The Most Tailored Place to Spend your Holidays in Madrid"
   ]
  },
  {
   "cell_type": "markdown",
   "metadata": {},
   "source": [
    "# 0. Background"
   ]
  },
  {
   "cell_type": "markdown",
   "metadata": {},
   "source": [
    "Madrid is one of the most turistic cities across Europe. Every year, hundreds of thousands of people visit the capital of Spain so as to enjoy the ambience there, try delicious and traditional dishes and spend their time going sightseeing while benefiting the good weather. Nowadays, travelling to a different country on vacation is not seen as a high-class activity considering the appearance of low-cost airlines and the globalization process since the beginning of the century. However, it is still difficult for people to optimize their housing expenses when they haven't been in that city before. Moreover, those readers that have visited Madrid as some point could agree with me that it is really difficult to visit every place in a short period of time. Apart from that, depending on the neighbourhood of Madrid your place is located on it could significantly vary the amount of money paid."
   ]
  },
  {
   "cell_type": "markdown",
   "metadata": {},
   "source": [
    "# 1. Business Problem"
   ]
  },
  {
   "cell_type": "markdown",
   "metadata": {},
   "source": [
    "In this context, there is undoubdtedly a problem to be solved for customers regarding the linkage between housing price and their requirements. By recommending to customers their most likely choices for living considering their travelling expectations and budget, a solution to the problem of optimizing the housing expenses while enjoying the city can be provided. Thus, the paramount scope of this project is to determine what are the most similar neighbourhoods based on the facilities, amenities, and restaurants around them providing a defined price the customer would be willing to pay for staying at them."
   ]
  }
 ],
 "metadata": {
  "kernelspec": {
   "display_name": "Python 3",
   "language": "python",
   "name": "python3"
  },
  "language_info": {
   "codemirror_mode": {
    "name": "ipython",
    "version": 3
   },
   "file_extension": ".py",
   "mimetype": "text/x-python",
   "name": "python",
   "nbconvert_exporter": "python",
   "pygments_lexer": "ipython3",
   "version": "3.7.6"
  }
 },
 "nbformat": 4,
 "nbformat_minor": 4
}
