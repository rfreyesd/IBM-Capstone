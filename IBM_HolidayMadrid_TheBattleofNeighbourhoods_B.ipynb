{
 "cells": [
  {
   "cell_type": "markdown",
   "metadata": {},
   "source": [
    "# The Most Tailored Place to Spend your Holidays in Madrid"
   ]
  },
  {
   "cell_type": "markdown",
   "metadata": {},
   "source": [
    "# 0. Background"
   ]
  },
  {
   "cell_type": "markdown",
   "metadata": {},
   "source": [
    "Madrid is one of the most turistic cities across Europe. Every year hundreds of thousands of people visit the capital of Spain so as to enjoy the people there, try new and tasty dishes and spend their time doing sightseeing while benefit the weather. Nowadays, travelling to a different country on vacation is not seen as a high-class activity considering the appearance of low-cost airlines and the globalization process of the early 21st century. However, it is still difficult for people to optimize their housing expenses when they haven't been in that city before. Moreover, Those readers that have visited Madrid as some point could agree with me that it is really difficult to visit every place in a short period of time. Apart from that, depending on the neighbourhood of Madrid your place is located on it could significantly vary the amount of money paid.\n",
    "\n",
    "\n",
    "\n",
    "The main purpose of this project is to determine what are the most similar neighbourhoods based on the facilities, amenities, and restaurants around it providing a defined price the customer is willing to pay for their place."
   ]
  },
  {
   "cell_type": "markdown",
   "metadata": {},
   "source": [
    "# 1. Business Problem"
   ]
  },
  {
   "cell_type": "markdown",
   "metadata": {},
   "source": [
    "In this context, there is undoubdtedly a problem to be solved for customers regarding the linkage between the housing price and their requirements. By recommending to customers their most likely choices for living considering their travelling expectations and budget, a solution to the problem of optimizing the housing expenses while enjoying the city can be provided."
   ]
  },
  {
   "cell_type": "markdown",
   "metadata": {},
   "source": [
    "# 2. Machine Learning Solution"
   ]
  },
  {
   "cell_type": "markdown",
   "metadata": {},
   "source": [
    "The purpose of this project is to implement a well known application of machine learning to define the most similar neighbourhoods. This technique is called clustering and consist of developing an algorithm capable of recognize similar groups in a huge dataset based on their characteristics (features)."
   ]
  },
  {
   "cell_type": "markdown",
   "metadata": {},
   "source": [
    "# 3. Data Collection"
   ]
  },
  {
   "cell_type": "markdown",
   "metadata": {},
   "source": [
    "Data on Madrid booking prices will be obtain through a Kaggle project in which Madrid Airbnb data is provided. By exploring this database, we are expecting to obtain the booking price per night for each locations as well as their coordinates and address information. Apart from this data source,  FourSquare API data will be used to explore and target recommended locations across different venues according to the existence of amenities and essential facilities."
   ]
  }
 ],
 "metadata": {
  "kernelspec": {
   "display_name": "Python 3",
   "language": "python",
   "name": "python3"
  },
  "language_info": {
   "codemirror_mode": {
    "name": "ipython",
    "version": 3
   },
   "file_extension": ".py",
   "mimetype": "text/x-python",
   "name": "python",
   "nbconvert_exporter": "python",
   "pygments_lexer": "ipython3",
   "version": "3.7.6"
  }
 },
 "nbformat": 4,
 "nbformat_minor": 4
}
